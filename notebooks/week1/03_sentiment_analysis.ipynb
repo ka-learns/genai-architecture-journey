{
  "nbformat": 4,
  "nbformat_minor": 0,
  "metadata": {
    "colab": {
      "provenance": []
    },
    "kernelspec": {
      "name": "python3",
      "display_name": "Python 3"
    },
    "language_info": {
      "name": "python"
    }
  },
  "cells": [
    {
      "cell_type": "markdown",
      "source": [
        "# Simple Sentiment Analysis with Hugging Face Pipelines\n",
        "Using pretrained models for quick inference.\n"
      ],
      "metadata": {
        "id": "7S89wccjUyJe"
      }
    },
    {
      "cell_type": "code",
      "execution_count": 46,
      "metadata": {
        "id": "FW3Pj77oUnGo"
      },
      "outputs": [],
      "source": [
        "from transformers import pipeline"
      ]
    },
    {
      "cell_type": "markdown",
      "source": [
        "Load a sentiment analysis"
      ],
      "metadata": {
        "id": "y32TejcjU5EP"
      }
    },
    {
      "cell_type": "code",
      "source": [
        "sentiment_analyzer = pipeline(\"sentiment-analysis\", model=\"distilbert/distilbert-base-uncased-finetuned-sst-2-english\")"
      ],
      "metadata": {
        "colab": {
          "base_uri": "https://localhost:8080/"
        },
        "id": "Hgi3hsPfU7vn",
        "outputId": "6f478836-b358-4d6e-8743-691d5f00c28d"
      },
      "execution_count": 47,
      "outputs": [
        {
          "output_type": "stream",
          "name": "stderr",
          "text": [
            "Device set to use cpu\n"
          ]
        }
      ]
    },
    {
      "cell_type": "markdown",
      "source": [
        "Run Inference"
      ],
      "metadata": {
        "id": "1NlvkoXAU9Kw"
      }
    },
    {
      "cell_type": "code",
      "source": [
        "text = \"I absolutely loved the movie!\"\n",
        "result = sentiment_analyzer(text)\n",
        "print(result)"
      ],
      "metadata": {
        "colab": {
          "base_uri": "https://localhost:8080/"
        },
        "id": "OD5htz9UVBJQ",
        "outputId": "ab7a7734-0183-42a8-c0f5-b425ccba93f5"
      },
      "execution_count": 48,
      "outputs": [
        {
          "output_type": "stream",
          "name": "stdout",
          "text": [
            "[{'label': 'POSITIVE', 'score': 0.9998770952224731}]\n"
          ]
        }
      ]
    },
    {
      "cell_type": "markdown",
      "source": [
        "Try Multiple Inputs"
      ],
      "metadata": {
        "id": "Go-p82HIVd8n"
      }
    },
    {
      "cell_type": "code",
      "source": [
        "texts = [\n",
        "    \"The food was amazing!\",\n",
        "    \"The service was terrible.\",\n",
        "    \"It was an average experience.\",\n",
        "    \"Today is Monday, yet another start to a long week of learning\"\n",
        "]\n",
        "sentiment_analyzer(texts)"
      ],
      "metadata": {
        "colab": {
          "base_uri": "https://localhost:8080/"
        },
        "id": "kykdCMtJViuv",
        "outputId": "5200e630-2b98-472b-8031-7866fb13f56a"
      },
      "execution_count": 49,
      "outputs": [
        {
          "output_type": "execute_result",
          "data": {
            "text/plain": [
              "[{'label': 'POSITIVE', 'score': 0.9998800754547119},\n",
              " {'label': 'NEGATIVE', 'score': 0.9996507167816162},\n",
              " {'label': 'NEGATIVE', 'score': 0.7773085236549377},\n",
              " {'label': 'NEGATIVE', 'score': 0.6223500370979309}]"
            ]
          },
          "metadata": {},
          "execution_count": 49
        }
      ]
    },
    {
      "cell_type": "markdown",
      "source": [
        "Experiment with Another Model"
      ],
      "metadata": {
        "id": "lG2lnx2rVkjN"
      }
    },
    {
      "cell_type": "code",
      "source": [
        "sentiment_roberta = pipeline(\"sentiment-analysis\", model=\"cardiffnlp/twitter-roberta-base-sentiment\")\n",
        "sentiment_roberta(\"I’m feeling optimistic about AI!\")"
      ],
      "metadata": {
        "colab": {
          "base_uri": "https://localhost:8080/"
        },
        "id": "PjZMfOdEVnEC",
        "outputId": "be54e364-e5b5-491e-b836-5adfa01b8abd"
      },
      "execution_count": 50,
      "outputs": [
        {
          "output_type": "stream",
          "name": "stderr",
          "text": [
            "Device set to use cpu\n"
          ]
        },
        {
          "output_type": "execute_result",
          "data": {
            "text/plain": [
              "[{'label': 'LABEL_2', 'score': 0.9684892892837524}]"
            ]
          },
          "metadata": {},
          "execution_count": 50
        }
      ]
    },
    {
      "cell_type": "markdown",
      "source": [
        "Inspect Model Metadata"
      ],
      "metadata": {
        "id": "bq_7UGK9VpoZ"
      }
    },
    {
      "cell_type": "code",
      "source": [
        "sentiment_analyzer.model.config"
      ],
      "metadata": {
        "colab": {
          "base_uri": "https://localhost:8080/"
        },
        "id": "gDgs8FbyWUgJ",
        "outputId": "cee2d161-aa37-4afa-b921-fd3ae2fecc05"
      },
      "execution_count": 51,
      "outputs": [
        {
          "output_type": "execute_result",
          "data": {
            "text/plain": [
              "DistilBertConfig {\n",
              "  \"activation\": \"gelu\",\n",
              "  \"architectures\": [\n",
              "    \"DistilBertForSequenceClassification\"\n",
              "  ],\n",
              "  \"attention_dropout\": 0.1,\n",
              "  \"dim\": 768,\n",
              "  \"dropout\": 0.1,\n",
              "  \"finetuning_task\": \"sst-2\",\n",
              "  \"hidden_dim\": 3072,\n",
              "  \"id2label\": {\n",
              "    \"0\": \"NEGATIVE\",\n",
              "    \"1\": \"POSITIVE\"\n",
              "  },\n",
              "  \"initializer_range\": 0.02,\n",
              "  \"label2id\": {\n",
              "    \"NEGATIVE\": 0,\n",
              "    \"POSITIVE\": 1\n",
              "  },\n",
              "  \"max_position_embeddings\": 512,\n",
              "  \"model_type\": \"distilbert\",\n",
              "  \"n_heads\": 12,\n",
              "  \"n_layers\": 6,\n",
              "  \"output_past\": true,\n",
              "  \"pad_token_id\": 0,\n",
              "  \"qa_dropout\": 0.1,\n",
              "  \"seq_classif_dropout\": 0.2,\n",
              "  \"sinusoidal_pos_embds\": false,\n",
              "  \"tie_weights_\": true,\n",
              "  \"transformers_version\": \"4.56.2\",\n",
              "  \"vocab_size\": 30522\n",
              "}"
            ]
          },
          "metadata": {},
          "execution_count": 51
        }
      ]
    },
    {
      "cell_type": "code",
      "source": [
        "sentiment_roberta.model.config"
      ],
      "metadata": {
        "colab": {
          "base_uri": "https://localhost:8080/"
        },
        "id": "wlOAjHIRVsDc",
        "outputId": "72969730-014f-4bd5-bce7-74d94317728f"
      },
      "execution_count": 52,
      "outputs": [
        {
          "output_type": "execute_result",
          "data": {
            "text/plain": [
              "RobertaConfig {\n",
              "  \"architectures\": [\n",
              "    \"RobertaForSequenceClassification\"\n",
              "  ],\n",
              "  \"attention_probs_dropout_prob\": 0.1,\n",
              "  \"bos_token_id\": 0,\n",
              "  \"classifier_dropout\": null,\n",
              "  \"eos_token_id\": 2,\n",
              "  \"gradient_checkpointing\": false,\n",
              "  \"hidden_act\": \"gelu\",\n",
              "  \"hidden_dropout_prob\": 0.1,\n",
              "  \"hidden_size\": 768,\n",
              "  \"id2label\": {\n",
              "    \"0\": \"LABEL_0\",\n",
              "    \"1\": \"LABEL_1\",\n",
              "    \"2\": \"LABEL_2\"\n",
              "  },\n",
              "  \"initializer_range\": 0.02,\n",
              "  \"intermediate_size\": 3072,\n",
              "  \"label2id\": {\n",
              "    \"LABEL_0\": 0,\n",
              "    \"LABEL_1\": 1,\n",
              "    \"LABEL_2\": 2\n",
              "  },\n",
              "  \"layer_norm_eps\": 1e-05,\n",
              "  \"max_position_embeddings\": 514,\n",
              "  \"model_type\": \"roberta\",\n",
              "  \"num_attention_heads\": 12,\n",
              "  \"num_hidden_layers\": 12,\n",
              "  \"pad_token_id\": 1,\n",
              "  \"position_embedding_type\": \"absolute\",\n",
              "  \"transformers_version\": \"4.56.2\",\n",
              "  \"type_vocab_size\": 1,\n",
              "  \"use_cache\": true,\n",
              "  \"vocab_size\": 50265\n",
              "}"
            ]
          },
          "metadata": {},
          "execution_count": 52
        }
      ]
    },
    {
      "cell_type": "markdown",
      "source": [
        "Try Custom Input"
      ],
      "metadata": {
        "id": "R3qb-5J1Wj4S"
      }
    },
    {
      "cell_type": "code",
      "source": [
        "while True:\n",
        "    text = input(\"Enter text (or 'quit'): \")\n",
        "    if text.lower() == \"quit\":\n",
        "        break\n",
        "    print(sentiment_analyzer(text))\n",
        "    print(sentiment_roberta(text))"
      ],
      "metadata": {
        "colab": {
          "base_uri": "https://localhost:8080/"
        },
        "id": "tyZSI3ZIWlVV",
        "outputId": "30b85536-c393-408e-85a8-5bb620b87c5a"
      },
      "execution_count": 53,
      "outputs": [
        {
          "name": "stdout",
          "output_type": "stream",
          "text": [
            "Enter text (or 'quit'): quit\n"
          ]
        }
      ]
    }
  ]
}