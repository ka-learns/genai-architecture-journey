{
  "nbformat": 4,
  "nbformat_minor": 0,
  "metadata": {
    "colab": {
      "provenance": [],
      "gpuType": "T4"
    },
    "kernelspec": {
      "name": "python3",
      "display_name": "Python 3"
    },
    "language_info": {
      "name": "python"
    },
    "accelerator": "GPU"
  },
  "cells": [
    {
      "cell_type": "markdown",
      "source": [
        "# GPU Verification & Basics\n",
        "\n",
        "How to verify if you have GPU, compare with CPU. See why GPUs are important"
      ],
      "metadata": {
        "id": "jjn61monY-f-"
      }
    },
    {
      "cell_type": "code",
      "execution_count": 1,
      "metadata": {
        "colab": {
          "base_uri": "https://localhost:8080/"
        },
        "id": "mCwLQdtRXYER",
        "outputId": "68448f2e-e0b6-4cb5-8241-6cbf07400dbe"
      },
      "outputs": [
        {
          "output_type": "stream",
          "name": "stdout",
          "text": [
            "GPU available? False\n"
          ]
        }
      ],
      "source": [
        "import torch\n",
        "import time\n",
        "print(\"GPU available?\", torch.cuda.is_available())"
      ]
    },
    {
      "cell_type": "markdown",
      "source": [
        "No GPU, lets see how long CPU takes to generate 100 million random numbers using pytorch and multiply them together"
      ],
      "metadata": {
        "id": "hKf7ET4xZ-RN"
      }
    },
    {
      "cell_type": "code",
      "source": [
        "x = torch.rand((10000, 10000))\n",
        "start = time.time()\n",
        "y = torch.matmul(x, x)\n",
        "print(\"CPU time:\", time.time() - start)"
      ],
      "metadata": {
        "colab": {
          "base_uri": "https://localhost:8080/"
        },
        "id": "1tD_FqQoaEDL",
        "outputId": "1585fd1f-c661-4293-8aee-d6bfc034ab90"
      },
      "execution_count": 4,
      "outputs": [
        {
          "output_type": "stream",
          "name": "stdout",
          "text": [
            "CPU time: 23.08790159225464\n"
          ]
        }
      ]
    },
    {
      "cell_type": "markdown",
      "source": [
        "CPU took almost 24 seconds to do that"
      ],
      "metadata": {
        "id": "8X1xYTjtZV7p"
      }
    },
    {
      "cell_type": "markdown",
      "source": [
        "Lets see what a GPU can do. How to enable GPU in Colab: ``Runtime → Change runtime type → Hardware accelerator → GPU``"
      ],
      "metadata": {
        "id": "8I1LDdoTb__D"
      }
    },
    {
      "cell_type": "code",
      "execution_count": 2,
      "metadata": {
        "colab": {
          "base_uri": "https://localhost:8080/"
        },
        "outputId": "9434093c-5932-48b0-a1ae-ffe9efd718c8",
        "id": "6JK-cLC1Zgv5"
      },
      "outputs": [
        {
          "output_type": "stream",
          "name": "stdout",
          "text": [
            "GPU available? True\n"
          ]
        }
      ],
      "source": [
        "import torch\n",
        "import time\n",
        "print(\"GPU available?\", torch.cuda.is_available())"
      ]
    },
    {
      "cell_type": "markdown",
      "source": [
        "Now that I have a GPU, what version is it?"
      ],
      "metadata": {
        "id": "3x61Q5RmZmsU"
      }
    },
    {
      "cell_type": "code",
      "source": [
        "!nvidia-smi"
      ],
      "metadata": {
        "colab": {
          "base_uri": "https://localhost:8080/"
        },
        "id": "gd79P4ghZq2M",
        "outputId": "0c3a72ac-e99c-4f42-e5b3-2e8412232952"
      },
      "execution_count": 3,
      "outputs": [
        {
          "output_type": "stream",
          "name": "stdout",
          "text": [
            "Tue Oct  7 16:11:04 2025       \n",
            "+-----------------------------------------------------------------------------------------+\n",
            "| NVIDIA-SMI 550.54.15              Driver Version: 550.54.15      CUDA Version: 12.4     |\n",
            "|-----------------------------------------+------------------------+----------------------+\n",
            "| GPU  Name                 Persistence-M | Bus-Id          Disp.A | Volatile Uncorr. ECC |\n",
            "| Fan  Temp   Perf          Pwr:Usage/Cap |           Memory-Usage | GPU-Util  Compute M. |\n",
            "|                                         |                        |               MIG M. |\n",
            "|=========================================+========================+======================|\n",
            "|   0  Tesla T4                       Off |   00000000:00:04.0 Off |                    0 |\n",
            "| N/A   42C    P8              9W /   70W |       2MiB /  15360MiB |      0%      Default |\n",
            "|                                         |                        |                  N/A |\n",
            "+-----------------------------------------+------------------------+----------------------+\n",
            "                                                                                         \n",
            "+-----------------------------------------------------------------------------------------+\n",
            "| Processes:                                                                              |\n",
            "|  GPU   GI   CI        PID   Type   Process name                              GPU Memory |\n",
            "|        ID   ID                                                               Usage      |\n",
            "|=========================================================================================|\n",
            "|  No running processes found                                                             |\n",
            "+-----------------------------------------------------------------------------------------+\n"
          ]
        }
      ]
    },
    {
      "cell_type": "markdown",
      "source": [
        "Now lets run the same test on GPU"
      ],
      "metadata": {
        "id": "E_Qe1-sAcNnf"
      }
    },
    {
      "cell_type": "code",
      "source": [
        "x = torch.rand((10000, 10000)).to('cuda')\n",
        "start = time.time()\n",
        "y = torch.matmul(x, x)\n",
        "print(\"GPU time:\", time.time() - start)"
      ],
      "metadata": {
        "colab": {
          "base_uri": "https://localhost:8080/"
        },
        "id": "2SIY4rwHcQRp",
        "outputId": "7e613c93-7b0e-4fed-98d7-f096fde23c92"
      },
      "execution_count": 13,
      "outputs": [
        {
          "output_type": "stream",
          "name": "stdout",
          "text": [
            "GPU time: 0.0003223419189453125\n"
          ]
        }
      ]
    },
    {
      "cell_type": "markdown",
      "source": [
        "That was way faster!"
      ],
      "metadata": {
        "id": "5K4c8gf6c-2k"
      }
    }
  ]
}