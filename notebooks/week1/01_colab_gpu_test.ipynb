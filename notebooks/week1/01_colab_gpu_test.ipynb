{
  "nbformat": 4,
  "nbformat_minor": 0,
  "metadata": {
    "colab": {
      "provenance": [],
      "gpuType": "T4",
      "authorship_tag": "ABX9TyO3EFXZeAzPJ7nta/9+neu9",
      "include_colab_link": true
    },
    "kernelspec": {
      "name": "python3",
      "display_name": "Python 3"
    },
    "language_info": {
      "name": "python"
    },
    "accelerator": "GPU"
  },
  "cells": [
    {
      "cell_type": "markdown",
      "metadata": {
        "id": "view-in-github",
        "colab_type": "text"
      },
      "source": [
        "<a href=\"https://colab.research.google.com/github/ka-learns/genai-architecture-journey/blob/main/notebooks/week1/colab_gpu_test.ipynb\" target=\"_parent\"><img src=\"https://colab.research.google.com/assets/colab-badge.svg\" alt=\"Open In Colab\"/></a>"
      ]
    },
    {
      "cell_type": "code",
      "execution_count": 3,
      "metadata": {
        "colab": {
          "base_uri": "https://localhost:8080/"
        },
        "id": "dcCL1o6uCunz",
        "outputId": "a291549a-8688-43ed-87bd-cc94f6c77d0a"
      },
      "outputs": [
        {
          "output_type": "stream",
          "name": "stderr",
          "text": [
            "Device set to use cuda:0\n",
            "Truncation was not explicitly activated but `max_length` is provided a specific value, please use `truncation=True` to explicitly truncate examples to max length. Defaulting to 'longest_first' truncation strategy. If you encode pairs of sequences (GLUE-style) with the tokenizer you can select this strategy more precisely by providing a specific strategy to `truncation`.\n",
            "Setting `pad_token_id` to `eos_token_id`:50256 for open-end generation.\n",
            "Both `max_new_tokens` (=256) and `max_length`(=40) seem to have been set. `max_new_tokens` will take precedence. Please refer to the documentation for more information. (https://huggingface.co/docs/transformers/main/en/main_classes/text_generation)\n"
          ]
        },
        {
          "output_type": "stream",
          "name": "stdout",
          "text": [
            "[{'generated_text': 'The future of AI in finance is not possible. It’s not possible for them to operate without their own knowledge and they have the ability to do so.\\n\\n\\n\\nThe problem is that if this happens in a society where, in its wake, all of this technology can be used in a way that is not even remotely desirable, in a way that is not even remotely desirable, in a way that is not even remotely desirable, in a way that is not even remotely desirable, in a way that is not even remotely desirable, in a way that is not even remotely desirable, in a way that is not even remotely desirable, in a way that is not even remotely desirable, in a way that is not even remotely desirable, in a way that is not even remotely desirable, in a way that is not even remotely desirable, in a way that is not even remotely desirable, in a way that is not even remotely desirable, in a way that is not even remotely desirable, in a way that is not even remotely desirable, in a way that is not even remotely desirable, in a way that is not even remotely desirable, in a way that is not even remotely desirable, in a way that is not even remotely desirable, in a way that is not even remotely desirable, in a way'}]\n"
          ]
        }
      ],
      "source": [
        "from transformers import pipeline\n",
        "generator = pipeline(\"text-generation\", model=\"distilgpt2\")\n",
        "print(generator(\"The future of AI in finance is\", max_length=40))"
      ]
    }
  ]
}