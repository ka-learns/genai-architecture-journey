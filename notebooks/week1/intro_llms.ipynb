{
 "cells": [
  {
   "cell_type": "code",
   "execution_count": 8,
   "metadata": {},
   "outputs": [
    {
     "name": "stderr",
     "output_type": "stream",
     "text": [
      "Device set to use mps:0\n",
      "Truncation was not explicitly activated but `max_length` is provided a specific value, please use `truncation=True` to explicitly truncate examples to max length. Defaulting to 'longest_first' truncation strategy. If you encode pairs of sequences (GLUE-style) with the tokenizer you can select this strategy more precisely by providing a specific strategy to `truncation`.\n",
      "Setting `pad_token_id` to `eos_token_id`:50256 for open-end generation.\n",
      "Both `max_new_tokens` (=256) and `max_length`(=20) seem to have been set. `max_new_tokens` will take precedence. Please refer to the documentation for more information. (https://huggingface.co/docs/transformers/main/en/main_classes/text_generation)\n"
     ]
    },
    {
     "name": "stdout",
     "output_type": "stream",
     "text": [
      "[{'generated_text': 'The future of AI in finance is not the only one with the potential to become a market leader, but is also the first one with the potential to become a market leader, but is also the first one with the potential to become a market leader, but is also the first one with the potential to become a market leader, but is also the first one with the potential to become a market leader, but is also the first one with the potential to become a market leader, but is also the first one with the potential to become a market leader, but is also the first one with the potential to become a market leader, but is also the first one with the potential to become a market leader, but is also the first one with the potential to become a market leader, but is also the first one with the potential to become a market leader, but is also the first one with the potential to become a market leader, but is also the first one with the potential to become a market leader, but is also the first one with the potential to become a market leader, but is also the first one with the potential to become a market leader, but is also the first one with the potential to become a market leader, but is also the first one with the potential to become a market leader, but is also'}]\n"
     ]
    }
   ],
   "source": [
    "from transformers import pipeline\n",
    "generator = pipeline(\"text-generation\", model=\"distilgpt2\")\n",
    "print(generator(\"The future of AI in finance is\", max_length=20))"
   ]
  }
 ],
 "metadata": {
  "kernelspec": {
   "display_name": "Python 3 (ipykernel)",
   "language": "python",
   "name": "python3"
  },
  "language_info": {
   "codemirror_mode": {
    "name": "ipython",
    "version": 3
   },
   "file_extension": ".py",
   "mimetype": "text/x-python",
   "name": "python",
   "nbconvert_exporter": "python",
   "pygments_lexer": "ipython3",
   "version": "3.12.6"
  }
 },
 "nbformat": 4,
 "nbformat_minor": 4
}
